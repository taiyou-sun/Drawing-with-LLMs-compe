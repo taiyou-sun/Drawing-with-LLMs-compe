{
 "cells": [
  {
   "cell_type": "code",
   "execution_count": 1,
   "metadata": {},
   "outputs": [
    {
     "name": "stderr",
     "output_type": "stream",
     "text": [
      "/home/omichi/anaconda3/envs/svgllm/lib/python3.10/site-packages/tqdm/auto.py:21: TqdmWarning: IProgress not found. Please update jupyter and ipywidgets. See https://ipywidgets.readthedocs.io/en/stable/user_install.html\n",
      "  from .autonotebook import tqdm as notebook_tqdm\n"
     ]
    },
    {
     "name": "stdout",
     "output_type": "stream",
     "text": [
      "Installing python dependencies for Package 'kagglehub_package_ryanholbrook_drawing_with_llms_getting_started_with_gemma_2_9', logging progress to '/tmp/kagglehub-package-dependencies-install-bst99r29.txt'.\n"
     ]
    }
   ],
   "source": [
    "import kagglehub\n",
    "package = kagglehub.package_import('ryanholbrook/drawing-with-llms-getting-started-with-gemma-2/versions/9')"
   ]
  },
  {
   "cell_type": "code",
   "execution_count": null,
   "metadata": {},
   "outputs": [],
   "source": [
    "#| default_exp core"
   ]
  },
  {
   "cell_type": "code",
   "execution_count": null,
   "metadata": {},
   "outputs": [],
   "source": [
    "import concurrent\n",
    "import io\n",
    "import logging\n",
    "import re\n",
    "import re2\n",
    "import cairosvg\n",
    "import kagglehub\n",
    "import torch\n",
    "import json\n",
    "from collections import Counter\n",
    "from lxml import etree\n",
    "from transformers import AutoTokenizer, AutoModelForCausalLM, BitsAndBytesConfig\n",
    "\n",
    "svg_constraints = kagglehub.package_import('metric/svg-constraints')\n",
    "\n",
    "DEVICE = torch.device(\"cuda:0\" if torch.cuda.is_available() else \"cpu\")\n",
    "\n",
    "\n",
    "class Model:\n",
    "    def __init__(self):\n",
    "        # Quantization Configuration\n",
    "        quantization_config = BitsAndBytesConfig(\n",
    "            load_in_4bit=True,\n",
    "            bnb_4bit_quant_type=\"nf4\",\n",
    "            bnb_4bit_use_double_quant=True,\n",
    "            bnb_4bit_compute_dtype=torch.float16,\n",
    "        )\n",
    "        self.model_path = kagglehub.model_download('google/gemma-2/Transformers/gemma-2-9b-it/2')\n",
    "        self.tokenizer = AutoTokenizer.from_pretrained(self.model_path)\n",
    "        self.model = AutoModelForCausalLM.from_pretrained(\n",
    "            self.model_path,\n",
    "            device_map={\"\": 0},\n",
    "            quantization_config=quantization_config,\n",
    "        )\n",
    "\n",
    "        # Base prompt template\n",
    "        self.base_template = \"\"\"Generate SVG code to visually represent the following text description, while respecting the given constraints.\n",
    "<constraints>\n",
    "* **Allowed Elements:** `svg`, `path`, `circle`, `rect`, `ellipse`, `line`, `polyline`, `polygon`, `g`, `linearGradient`, `radialGradient`, `stop`, `defs`\n",
    "* **Allowed Attributes:** `viewBox`, `width`, `height`, `fill`, `stroke`, `stroke-width`, `d`, `cx`, `cy`, `r`, `x`, `y`, `rx`, `ry`, `x1`, `y1`, `x2`, `y2`, `points`, `transform`, `opacity`\n",
    "</constraints>\n",
    "\n",
    "<example>\n",
    "<description>\"A red circle with a blue square inside\"</description>\n",
    "```svg\n",
    "<svg viewBox=\"0 0 256 256\" width=\"256\" height=\"256\">\n",
    "  <circle cx=\"50\" cy=\"50\" r=\"40\" fill=\"red\"/>\n",
    "  <rect x=\"30\" y=\"30\" width=\"40\" height=\"40\" fill=\"blue\"/>\n",
    "</svg>\n",
    "```\n",
    "</example>\n",
    "\n",
    "<description>\"{}\"</description>\n",
    "```svg\n",
    "<svg viewBox=\"0 0 256 256\" width=\"256\" height=\"256\">\n",
    "\"\"\"\n",
    "        self.default_svg = \"\"\"<svg width=\\\"256\\\" height=\\\"256\\\" viewBox=\\\"0 0 256 256\\\"><circle cx=\\\"50\\\" cy=\\\"50\\\" r=\\\"40\\\" fill=\\\"red\\\" /></svg>\"\"\"\n",
    "        self.constraints = svg_constraints.SVGConstraints()\n",
    "        self.timeout_seconds = 90\n",
    "\n",
    "    def _run_generation(self, prompt, max_new_tokens):\n",
    "        inputs = self.tokenizer(text=prompt, return_tensors=\"pt\").to(DEVICE)\n",
    "        with torch.no_grad():\n",
    "            output = self.model.generate(\n",
    "                **inputs,\n",
    "                max_new_tokens=max_new_tokens,\n",
    "                do_sample=True,\n",
    "            )\n",
    "        decoded = self.tokenizer.decode(output[0], skip_special_tokens=True)\n",
    "        return decoded\n",
    "\n",
    "    def enforce_constraints(self, svg_string: str) -> str:\n",
    "        parser = etree.XMLParser(remove_blank_text=True, remove_comments=True)\n",
    "        try:\n",
    "            root = etree.fromstring(svg_string, parser=parser)\n",
    "        except etree.ParseError as e:\n",
    "            logging.error('SVG Parse Error: %s. Returning default SVG.', e)\n",
    "            return self.default_svg\n",
    "\n",
    "        to_remove = []\n",
    "        for elem in root.iter():\n",
    "            tag = etree.QName(elem.tag).localname\n",
    "            if tag not in self.constraints.allowed_elements:\n",
    "                to_remove.append(elem); continue\n",
    "            # ... (attribute checks as before) ...\n",
    "        for elem in to_remove:\n",
    "            if elem.getparent() is not None:\n",
    "                elem.getparent().remove(elem)\n",
    "        try:\n",
    "            return etree.tostring(root, encoding='unicode')\n",
    "        except Exception:\n",
    "            return self.default_svg\n",
    "\n",
    "    def predict(self, description: str, max_new_tokens=512, method='default', **kwargs) -> str:\n",
    "        \"\"\"\n",
    "        method: 'default' | 'cot_sc' | 'function_call' | 'ensemble'\n",
    "        \"\"\"\n",
    "        if method == 'cot_sc':\n",
    "            return self.predict_with_cot_self_consistency(description, max_new_tokens, **kwargs)\n",
    "        elif method == 'function_call':\n",
    "            return self.predict_with_function_calling(description, max_new_tokens)\n",
    "        elif method == 'ensemble':\n",
    "            return self.predict_with_ensemble(description, max_new_tokens, **kwargs)\n",
    "        else:\n",
    "            return self._default_predict(description, max_new_tokens)\n",
    "\n",
    "    def _default_predict(self, description: str, max_new_tokens) -> str:\n",
    "        # original generation logic\n",
    "        prompt = self.base_template.format(description)\n",
    "        decoded = self._run_generation(prompt, max_new_tokens)\n",
    "        matches = re.findall(r\"<svg.*?</svg>\", decoded, re.DOTALL|re.IGNORECASE)\n",
    "        svg = matches[-1] if matches else self.default_svg\n",
    "        # sanitize\n",
    "        return self.enforce_constraints(svg)\n",
    "\n",
    "    def predict_with_cot_self_consistency(self, description: str, max_new_tokens=512, samples=5) -> str:\n",
    "        # Chain-of-Thought prompt\n",
    "        cot_prompt = self.base_template.replace(\n",
    "            'Generate SVG code',\n",
    "            'まずは図形分解をステップバイステップで考え、その後SVGを生成'\n",
    "        ).format(description)\n",
    "        svgs = []\n",
    "        for _ in range(samples):\n",
    "            decoded = self._run_generation(cot_prompt, max_new_tokens)\n",
    "            match = re.findall(r\"<svg.*?</svg>\", decoded, re.DOTALL|re.IGNORECASE)\n",
    "            svgs.append(match[-1] if match else self.default_svg)\n",
    "        # Self-Consistency majority vote\n",
    "        most_common_svg, _ = Counter(svgs).most_common(1)[0]\n",
    "        return self.enforce_constraints(most_common_svg)\n",
    "\n",
    "    def predict_with_function_calling(self, description: str, max_new_tokens=512) -> str:\n",
    "        # Define function schema inline in prompt\n",
    "        func_schema = {\n",
    "            \"create_circle\": {\"cx\":\"number\",\"cy\":\"number\",\"r\":\"number\",\"fill\":\"string\"},\n",
    "            \"create_rect\":   {\"x\":\"number\",\"y\":\"number\",\"width\":\"number\",\"height\":\"number\",\"fill\":\"string\"}\n",
    "            # ... add other primitives\n",
    "        }\n",
    "        prompt = (\n",
    "            \"Use the following JSON schema to output function calls only, then assemble into SVG:\\n\"\n",
    "            + json.dumps(func_schema)\n",
    "            + \"\\nDescription: '\"+description+\"'\"\n",
    "        )\n",
    "        decoded = self._run_generation(prompt, max_new_tokens)\n",
    "        # Parse function calls\n",
    "        try:\n",
    "            calls = json.loads(re.search(r\"(\\{.*\\})\", decoded, re.DOTALL).group(1))\n",
    "        except Exception:\n",
    "            return self.default_svg\n",
    "        # Build SVG from calls\n",
    "        parts = []\n",
    "        for fn, params in calls.items():\n",
    "            if fn == 'create_circle':\n",
    "                parts.append(f\"<circle cx='{params['cx']}' cy='{params['cy']}' r='{params['r']}' fill='{params.get('fill','none')}' />\")\n",
    "            if fn == 'create_rect':\n",
    "                parts.append(f\"<rect x='{params['x']}' y='{params['y']}' width='{params['width']}' height='{params['height']}' fill='{params.get('fill','none')}' />\")\n",
    "        svg = f\"<svg viewBox='0 0 256 256' width='256' height='256'>{''.join(parts)}</svg>\"\n",
    "        return self.enforce_constraints(svg)\n",
    "\n",
    "    def predict_with_ensemble(self, description: str, max_new_tokens=512, samples=10) -> str:\n",
    "        # Generate multiple candidates\n",
    "        candidates = []\n",
    "        for _ in range(samples):\n",
    "            decoded = self._run_generation(self.base_template.format(description), max_new_tokens)\n",
    "            match = re.findall(r\"<svg.*?</svg>\", decoded, re.DOTALL|re.IGNORECASE)\n",
    "            candidates.append(match[-1] if match else self.default_svg)\n",
    "        # Vote for most frequent full SVG\n",
    "        best_svg, _ = Counter(candidates).most_common(1)[0]\n",
    "        return self.enforce_constraints(best_svg)\n"
   ]
  },
  {
   "cell_type": "code",
   "execution_count": 3,
   "metadata": {},
   "outputs": [
    {
     "data": {
      "text/html": [
       "<div><style>\n",
       ".dataframe > thead > tr,\n",
       ".dataframe > tbody > tr {\n",
       "  text-align: right;\n",
       "  white-space: pre-wrap;\n",
       "}\n",
       "</style>\n",
       "<small>shape: (5, 2)</small><table border=\"1\" class=\"dataframe\"><thead><tr><th>id</th><th>description</th></tr><tr><td>str</td><td>str</td></tr></thead><tbody><tr><td>&quot;02d892&quot;</td><td>&quot;a purple forest at dusk&quot;</td></tr><tr><td>&quot;0dcd2e&quot;</td><td>&quot;gray wool coat with a faux fur…</td></tr><tr><td>&quot;1e9ac1&quot;</td><td>&quot;a lighthouse overlooking the o…</td></tr><tr><td>&quot;2b25db&quot;</td><td>&quot;burgundy corduroy pants with p…</td></tr><tr><td>&quot;4e6a54&quot;</td><td>&quot;orange corduroy overalls&quot;</td></tr></tbody></table></div>"
      ],
      "text/plain": [
       "shape: (5, 2)\n",
       "┌────────┬─────────────────────────────────┐\n",
       "│ id     ┆ description                     │\n",
       "│ ---    ┆ ---                             │\n",
       "│ str    ┆ str                             │\n",
       "╞════════╪═════════════════════════════════╡\n",
       "│ 02d892 ┆ a purple forest at dusk         │\n",
       "│ 0dcd2e ┆ gray wool coat with a faux fur… │\n",
       "│ 1e9ac1 ┆ a lighthouse overlooking the o… │\n",
       "│ 2b25db ┆ burgundy corduroy pants with p… │\n",
       "│ 4e6a54 ┆ orange corduroy overalls        │\n",
       "└────────┴─────────────────────────────────┘"
      ]
     },
     "metadata": {},
     "output_type": "display_data"
    },
    {
     "name": "stderr",
     "output_type": "stream",
     "text": [
      "DEBUG:bitsandbytes.cextension:Loading bitsandbytes native library from: /home/omichi/anaconda3/envs/svgllm/lib/python3.10/site-packages/bitsandbytes/libbitsandbytes_cuda124.so\n",
      "Loading checkpoint shards: 100%|██████████| 4/4 [00:14<00:00,  3.64s/it]\n",
      "DEBUG:root:Output decoded from model: Generate SVG code to visually represent the following text description, while respecting the given constraints.\n",
      "<constraints>\n",
      "* **Allowed Elements:** `svg`, `path`, `circle`, `rect`, `ellipse`, `line`, `polyline`, `polygon`, `g`, `linearGradient`, `radialGradient`, `stop`, `defs`\n",
      "* **Allowed Attributes:** `viewBox`, `width`, `height`, `fill`, `stroke`, `stroke-width`, `d`, `cx`, `cy`, `r`, `x`, `y`, `rx`, `ry`, `x1`, `y1`, `x2`, `y2`, `points`, `transform`, `opacity`\n",
      "</constraints>\n",
      "\n",
      "<example>\n",
      "<description>\"A red circle with a blue square inside\"</description>\n",
      "```svg\n",
      "<svg viewBox=\"0 0 256 256\" width=\"256\" height=\"256\">\n",
      "  <circle cx=\"50\" cy=\"50\" r=\"40\" fill=\"red\"/>\n",
      "  <rect x=\"30\" y=\"30\" width=\"40\" height=\"40\" fill=\"blue\"/>\n",
      "</svg>\n",
      "```\n",
      "</example>\n",
      "\n",
      "\n",
      "Please ensure that the generated SVG code is well-formed, valid, and strictly adheres to these constraints. Focus on a clear and concise representation of the input description within the given limitations. Always give the complete SVG code with nothing omitted. Never use an ellipsis.\n",
      "\n",
      "<description>\"a purple forest at dusk\"</description>\n",
      "```svg\n",
      "<svg viewBox=\"0 0 256 256\" width=\"256\" height=\"256\">\n",
      "  <rect x=\"0\" y=\"0\" width=\"256\" height=\"256\" fill=\"purple\"/>\n",
      "  <path d=\"M 10 10 \n",
      " 150 10 \n",
      " 150 150 \n",
      " 10 150\n",
      " 10 10\" stroke=\"black\" stroke-width=\"2\" />\n",
      "</svg>\n",
      "```\n",
      " \n",
      "\n",
      "\n",
      "DEBUG:root:Unprocessed SVG: <svg viewBox=\"0 0 256 256\" width=\"256\" height=\"256\">\n",
      "  <rect x=\"0\" y=\"0\" width=\"256\" height=\"256\" fill=\"purple\"/>\n",
      "  <path d=\"M 10 10 \n",
      " 150 10 \n",
      " 150 150 \n",
      " 10 150\n",
      " 10 10\" stroke=\"black\" stroke-width=\"2\" />\n",
      "</svg>\n",
      "INFO:root:Sanitizing SVG...\n",
      "DEBUG:root:Path element \"d\" attribute validated (regex check).\n",
      "DEBUG:root:Processed SVG: <svg viewBox=\"0 0 256 256\" width=\"256\" height=\"256\"><rect x=\"0\" y=\"0\" width=\"256\" height=\"256\" fill=\"purple\"/><path d=\"M 10 10   150 10   150 150   10 150  10 10\" stroke=\"black\" stroke-width=\"2\"/></svg>\n"
     ]
    },
    {
     "name": "stdout",
     "output_type": "stream",
     "text": [
      "Prediction time for description 'a purple forest at d...': 7.5540 seconds\n"
     ]
    },
    {
     "data": {
      "image/svg+xml": [
       "<svg viewBox=\"0 0 256 256\" width=\"256\" height=\"256\"><rect x=\"0\" y=\"0\" width=\"256\" height=\"256\" fill=\"purple\"/><path d=\"M 10 10   150 10   150 150   10 150  10 10\" stroke=\"black\" stroke-width=\"2\"/></svg>"
      ],
      "text/plain": [
       "<IPython.core.display.SVG object>"
      ]
     },
     "metadata": {},
     "output_type": "display_data"
    },
    {
     "name": "stderr",
     "output_type": "stream",
     "text": [
      "DEBUG:root:Output decoded from model: Generate SVG code to visually represent the following text description, while respecting the given constraints.\n",
      "<constraints>\n",
      "* **Allowed Elements:** `svg`, `path`, `circle`, `rect`, `ellipse`, `line`, `polyline`, `polygon`, `g`, `linearGradient`, `radialGradient`, `stop`, `defs`\n",
      "* **Allowed Attributes:** `viewBox`, `width`, `height`, `fill`, `stroke`, `stroke-width`, `d`, `cx`, `cy`, `r`, `x`, `y`, `rx`, `ry`, `x1`, `y1`, `x2`, `y2`, `points`, `transform`, `opacity`\n",
      "</constraints>\n",
      "\n",
      "<example>\n",
      "<description>\"A red circle with a blue square inside\"</description>\n",
      "```svg\n",
      "<svg viewBox=\"0 0 256 256\" width=\"256\" height=\"256\">\n",
      "  <circle cx=\"50\" cy=\"50\" r=\"40\" fill=\"red\"/>\n",
      "  <rect x=\"30\" y=\"30\" width=\"40\" height=\"40\" fill=\"blue\"/>\n",
      "</svg>\n",
      "```\n",
      "</example>\n",
      "\n",
      "\n",
      "Please ensure that the generated SVG code is well-formed, valid, and strictly adheres to these constraints. Focus on a clear and concise representation of the input description within the given limitations. Always give the complete SVG code with nothing omitted. Never use an ellipsis.\n",
      "\n",
      "<description>\"gray wool coat with a faux fur collar\"</description>\n",
      "```svg\n",
      "<svg viewBox=\"0 0 256 256\" width=\"256\" height=\"256\">\n",
      "  <rect x=\"30\" y=\"50\" width=\"196\" height=\"196\" fill=\"#b5a18f\"/> \n",
      "  <path d=\"M 150 50 Q 200 100 150 150 Z\" fill=\"#806a40\"/>\n",
      "</svg>\n",
      "```\n",
      "\n",
      "DEBUG:root:Unprocessed SVG: <svg viewBox=\"0 0 256 256\" width=\"256\" height=\"256\">\n",
      "  <rect x=\"30\" y=\"50\" width=\"196\" height=\"196\" fill=\"#b5a18f\"/> \n",
      "  <path d=\"M 150 50 Q 200 100 150 150 Z\" fill=\"#806a40\"/>\n",
      "</svg>\n",
      "INFO:root:Sanitizing SVG...\n",
      "DEBUG:root:Path element \"d\" attribute validated (regex check).\n",
      "DEBUG:root:Processed SVG: <svg viewBox=\"0 0 256 256\" width=\"256\" height=\"256\"><rect x=\"30\" y=\"50\" width=\"196\" height=\"196\" fill=\"#b5a18f\"/><path d=\"M 150 50 Q 200 100 150 150 Z\" fill=\"#806a40\"/></svg>\n"
     ]
    },
    {
     "name": "stdout",
     "output_type": "stream",
     "text": [
      "Prediction time for description 'gray wool coat with ...': 6.2547 seconds\n"
     ]
    },
    {
     "data": {
      "image/svg+xml": [
       "<svg viewBox=\"0 0 256 256\" width=\"256\" height=\"256\"><rect x=\"30\" y=\"50\" width=\"196\" height=\"196\" fill=\"#b5a18f\"/><path d=\"M 150 50 Q 200 100 150 150 Z\" fill=\"#806a40\"/></svg>"
      ],
      "text/plain": [
       "<IPython.core.display.SVG object>"
      ]
     },
     "metadata": {},
     "output_type": "display_data"
    },
    {
     "name": "stderr",
     "output_type": "stream",
     "text": [
      "DEBUG:root:Output decoded from model: Generate SVG code to visually represent the following text description, while respecting the given constraints.\n",
      "<constraints>\n",
      "* **Allowed Elements:** `svg`, `path`, `circle`, `rect`, `ellipse`, `line`, `polyline`, `polygon`, `g`, `linearGradient`, `radialGradient`, `stop`, `defs`\n",
      "* **Allowed Attributes:** `viewBox`, `width`, `height`, `fill`, `stroke`, `stroke-width`, `d`, `cx`, `cy`, `r`, `x`, `y`, `rx`, `ry`, `x1`, `y1`, `x2`, `y2`, `points`, `transform`, `opacity`\n",
      "</constraints>\n",
      "\n",
      "<example>\n",
      "<description>\"A red circle with a blue square inside\"</description>\n",
      "```svg\n",
      "<svg viewBox=\"0 0 256 256\" width=\"256\" height=\"256\">\n",
      "  <circle cx=\"50\" cy=\"50\" r=\"40\" fill=\"red\"/>\n",
      "  <rect x=\"30\" y=\"30\" width=\"40\" height=\"40\" fill=\"blue\"/>\n",
      "</svg>\n",
      "```\n",
      "</example>\n",
      "\n",
      "\n",
      "Please ensure that the generated SVG code is well-formed, valid, and strictly adheres to these constraints. Focus on a clear and concise representation of the input description within the given limitations. Always give the complete SVG code with nothing omitted. Never use an ellipsis.\n",
      "\n",
      "<description>\"a lighthouse overlooking the ocean\"</description>\n",
      "```svg\n",
      "<svg viewBox=\"0 0 256 256\" width=\"256\" height=\"256\">\n",
      "  <path d=\"M128 256 L64 128 L192 128 Z\" fill=\"#57D564\"/> \n",
      "  <rect x=\"100\" y=\"100\" width=\"56\" height=\"128\" fill=\"#FFF\" stroke=\"#666\" stroke-width=\"2\" /> \n",
      "  <path d=\"M112 96 L112 80 M96 80 L128 80 Z\" fill=\"#FFF\" /> \n",
      "  <circle cx=\"112\" cy=\"72\" r=\"8\" fill=\"black\"/>\n",
      "</svg>\n",
      "```\n",
      "\n",
      "\n",
      "\n",
      "\n",
      "\n",
      "\n",
      "DEBUG:root:Unprocessed SVG: <svg viewBox=\"0 0 256 256\" width=\"256\" height=\"256\">\n",
      "  <path d=\"M128 256 L64 128 L192 128 Z\" fill=\"#57D564\"/> \n",
      "  <rect x=\"100\" y=\"100\" width=\"56\" height=\"128\" fill=\"#FFF\" stroke=\"#666\" stroke-width=\"2\" /> \n",
      "  <path d=\"M112 96 L112 80 M96 80 L128 80 Z\" fill=\"#FFF\" /> \n",
      "  <circle cx=\"112\" cy=\"72\" r=\"8\" fill=\"black\"/>\n",
      "</svg>\n",
      "INFO:root:Sanitizing SVG...\n",
      "DEBUG:root:Path element \"d\" attribute validated (regex check).\n",
      "DEBUG:root:Path element \"d\" attribute validated (regex check).\n",
      "DEBUG:root:Processed SVG: <svg viewBox=\"0 0 256 256\" width=\"256\" height=\"256\"><path d=\"M128 256 L64 128 L192 128 Z\" fill=\"#57D564\"/><rect x=\"100\" y=\"100\" width=\"56\" height=\"128\" fill=\"#FFF\" stroke=\"#666\" stroke-width=\"2\"/><path d=\"M112 96 L112 80 M96 80 L128 80 Z\" fill=\"#FFF\"/><circle cx=\"112\" cy=\"72\" r=\"8\" fill=\"black\"/></svg>\n"
     ]
    },
    {
     "name": "stdout",
     "output_type": "stream",
     "text": [
      "Prediction time for description 'a lighthouse overloo...': 11.3880 seconds\n"
     ]
    },
    {
     "data": {
      "image/svg+xml": [
       "<svg viewBox=\"0 0 256 256\" width=\"256\" height=\"256\"><path d=\"M128 256 L64 128 L192 128 Z\" fill=\"#57D564\"/><rect x=\"100\" y=\"100\" width=\"56\" height=\"128\" fill=\"#FFF\" stroke=\"#666\" stroke-width=\"2\"/><path d=\"M112 96 L112 80 M96 80 L128 80 Z\" fill=\"#FFF\"/><circle cx=\"112\" cy=\"72\" r=\"8\" fill=\"black\"/></svg>"
      ],
      "text/plain": [
       "<IPython.core.display.SVG object>"
      ]
     },
     "metadata": {},
     "output_type": "display_data"
    },
    {
     "name": "stderr",
     "output_type": "stream",
     "text": [
      "DEBUG:root:Output decoded from model: Generate SVG code to visually represent the following text description, while respecting the given constraints.\n",
      "<constraints>\n",
      "* **Allowed Elements:** `svg`, `path`, `circle`, `rect`, `ellipse`, `line`, `polyline`, `polygon`, `g`, `linearGradient`, `radialGradient`, `stop`, `defs`\n",
      "* **Allowed Attributes:** `viewBox`, `width`, `height`, `fill`, `stroke`, `stroke-width`, `d`, `cx`, `cy`, `r`, `x`, `y`, `rx`, `ry`, `x1`, `y1`, `x2`, `y2`, `points`, `transform`, `opacity`\n",
      "</constraints>\n",
      "\n",
      "<example>\n",
      "<description>\"A red circle with a blue square inside\"</description>\n",
      "```svg\n",
      "<svg viewBox=\"0 0 256 256\" width=\"256\" height=\"256\">\n",
      "  <circle cx=\"50\" cy=\"50\" r=\"40\" fill=\"red\"/>\n",
      "  <rect x=\"30\" y=\"30\" width=\"40\" height=\"40\" fill=\"blue\"/>\n",
      "</svg>\n",
      "```\n",
      "</example>\n",
      "\n",
      "\n",
      "Please ensure that the generated SVG code is well-formed, valid, and strictly adheres to these constraints. Focus on a clear and concise representation of the input description within the given limitations. Always give the complete SVG code with nothing omitted. Never use an ellipsis.\n",
      "\n",
      "<description>\"burgundy corduroy pants with patch pockets and silver buttons\"</description>\n",
      "```svg\n",
      "<svg viewBox=\"0 0 256 256\" width=\"256\" height=\"256\">\n",
      "  <rect x=\"0\" y=\"64\" width=\"256\" height=\"128\" fill=\"purple\"/>\n",
      "  <rect x=\"48\" y=\"80\" width=\"48\" height=\"48\" fill=\"brown\"/>\n",
      "  <rect x=\"160\" y=\"80\" width=\"48\" height=\"48\" fill=\"brown\"/>\n",
      "  <circle cx=\"40\" cy=\"100\" r=\"5\" fill=\"silver\"/>\n",
      "  <circle cx=\"160\" cy=\"100\" r=\"5\" fill=\"silver\"/>\n",
      "</svg>\n",
      "```\n",
      "\n",
      "\n",
      "\n",
      "\n",
      "DEBUG:root:Unprocessed SVG: <svg viewBox=\"0 0 256 256\" width=\"256\" height=\"256\">\n",
      "  <rect x=\"0\" y=\"64\" width=\"256\" height=\"128\" fill=\"purple\"/>\n",
      "  <rect x=\"48\" y=\"80\" width=\"48\" height=\"48\" fill=\"brown\"/>\n",
      "  <rect x=\"160\" y=\"80\" width=\"48\" height=\"48\" fill=\"brown\"/>\n",
      "  <circle cx=\"40\" cy=\"100\" r=\"5\" fill=\"silver\"/>\n",
      "  <circle cx=\"160\" cy=\"100\" r=\"5\" fill=\"silver\"/>\n",
      "</svg>\n",
      "INFO:root:Sanitizing SVG...\n",
      "DEBUG:root:Processed SVG: <svg viewBox=\"0 0 256 256\" width=\"256\" height=\"256\"><rect x=\"0\" y=\"64\" width=\"256\" height=\"128\" fill=\"purple\"/><rect x=\"48\" y=\"80\" width=\"48\" height=\"48\" fill=\"brown\"/><rect x=\"160\" y=\"80\" width=\"48\" height=\"48\" fill=\"brown\"/><circle cx=\"40\" cy=\"100\" r=\"5\" fill=\"silver\"/><circle cx=\"160\" cy=\"100\" r=\"5\" fill=\"silver\"/></svg>\n"
     ]
    },
    {
     "name": "stdout",
     "output_type": "stream",
     "text": [
      "Prediction time for description 'burgundy corduroy pa...': 10.1507 seconds\n"
     ]
    },
    {
     "data": {
      "image/svg+xml": [
       "<svg viewBox=\"0 0 256 256\" width=\"256\" height=\"256\"><rect x=\"0\" y=\"64\" width=\"256\" height=\"128\" fill=\"purple\"/><rect x=\"48\" y=\"80\" width=\"48\" height=\"48\" fill=\"brown\"/><rect x=\"160\" y=\"80\" width=\"48\" height=\"48\" fill=\"brown\"/><circle cx=\"40\" cy=\"100\" r=\"5\" fill=\"silver\"/><circle cx=\"160\" cy=\"100\" r=\"5\" fill=\"silver\"/></svg>"
      ],
      "text/plain": [
       "<IPython.core.display.SVG object>"
      ]
     },
     "metadata": {},
     "output_type": "display_data"
    },
    {
     "name": "stderr",
     "output_type": "stream",
     "text": [
      "DEBUG:root:Output decoded from model: Generate SVG code to visually represent the following text description, while respecting the given constraints.\n",
      "<constraints>\n",
      "* **Allowed Elements:** `svg`, `path`, `circle`, `rect`, `ellipse`, `line`, `polyline`, `polygon`, `g`, `linearGradient`, `radialGradient`, `stop`, `defs`\n",
      "* **Allowed Attributes:** `viewBox`, `width`, `height`, `fill`, `stroke`, `stroke-width`, `d`, `cx`, `cy`, `r`, `x`, `y`, `rx`, `ry`, `x1`, `y1`, `x2`, `y2`, `points`, `transform`, `opacity`\n",
      "</constraints>\n",
      "\n",
      "<example>\n",
      "<description>\"A red circle with a blue square inside\"</description>\n",
      "```svg\n",
      "<svg viewBox=\"0 0 256 256\" width=\"256\" height=\"256\">\n",
      "  <circle cx=\"50\" cy=\"50\" r=\"40\" fill=\"red\"/>\n",
      "  <rect x=\"30\" y=\"30\" width=\"40\" height=\"40\" fill=\"blue\"/>\n",
      "</svg>\n",
      "```\n",
      "</example>\n",
      "\n",
      "\n",
      "Please ensure that the generated SVG code is well-formed, valid, and strictly adheres to these constraints. Focus on a clear and concise representation of the input description within the given limitations. Always give the complete SVG code with nothing omitted. Never use an ellipsis.\n",
      "\n",
      "<description>\"orange corduroy overalls\"</description>\n",
      "```svg\n",
      "<svg viewBox=\"0 0 256 256\" width=\"256\" height=\"256\">\n",
      "  <path d=\"M50 100H250V250H50Z\" fill=\"orange\" stroke=\"black\"/>\n",
      "  <path d=\"M50 100H250V150H50Z\" fill=\"orange\" stroke=\"black\"/>\n",
      " <path d=\"M100 100H150V150H100Z\" fill=\"orange\" stroke=\"black\"/> \n",
      "  <path d=\"M200 100H250V150H200Z\" fill=\"orange\" stroke=\"black\"/> \n",
      "  <path d=\"M50 200H250V250H50Z\" fill=\"orange\" stroke=\"black\"/> \n",
      "</svg>\n",
      "```  \n",
      "\n",
      "\n",
      "\n",
      "\n",
      "DEBUG:root:Unprocessed SVG: <svg viewBox=\"0 0 256 256\" width=\"256\" height=\"256\">\n",
      "  <path d=\"M50 100H250V250H50Z\" fill=\"orange\" stroke=\"black\"/>\n",
      "  <path d=\"M50 100H250V150H50Z\" fill=\"orange\" stroke=\"black\"/>\n",
      " <path d=\"M100 100H150V150H100Z\" fill=\"orange\" stroke=\"black\"/> \n",
      "  <path d=\"M200 100H250V150H200Z\" fill=\"orange\" stroke=\"black\"/> \n",
      "  <path d=\"M50 200H250V250H50Z\" fill=\"orange\" stroke=\"black\"/> \n",
      "</svg>\n",
      "INFO:root:Sanitizing SVG...\n",
      "DEBUG:root:Path element \"d\" attribute validated (regex check).\n",
      "DEBUG:root:Path element \"d\" attribute validated (regex check).\n",
      "DEBUG:root:Path element \"d\" attribute validated (regex check).\n",
      "DEBUG:root:Path element \"d\" attribute validated (regex check).\n",
      "DEBUG:root:Path element \"d\" attribute validated (regex check).\n",
      "DEBUG:root:Processed SVG: <svg viewBox=\"0 0 256 256\" width=\"256\" height=\"256\"><path d=\"M50 100H250V250H50Z\" fill=\"orange\" stroke=\"black\"/><path d=\"M50 100H250V150H50Z\" fill=\"orange\" stroke=\"black\"/><path d=\"M100 100H150V150H100Z\" fill=\"orange\" stroke=\"black\"/><path d=\"M200 100H250V150H200Z\" fill=\"orange\" stroke=\"black\"/><path d=\"M50 200H250V250H50Z\" fill=\"orange\" stroke=\"black\"/></svg>\n"
     ]
    },
    {
     "name": "stdout",
     "output_type": "stream",
     "text": [
      "Prediction time for description 'orange corduroy over...': 13.2319 seconds\n"
     ]
    },
    {
     "data": {
      "image/svg+xml": [
       "<svg viewBox=\"0 0 256 256\" width=\"256\" height=\"256\"><path d=\"M50 100H250V250H50Z\" fill=\"orange\" stroke=\"black\"/><path d=\"M50 100H250V150H50Z\" fill=\"orange\" stroke=\"black\"/><path d=\"M100 100H150V150H100Z\" fill=\"orange\" stroke=\"black\"/><path d=\"M200 100H250V150H200Z\" fill=\"orange\" stroke=\"black\"/><path d=\"M50 200H250V250H50Z\" fill=\"orange\" stroke=\"black\"/></svg>"
      ],
      "text/plain": [
       "<IPython.core.display.SVG object>"
      ]
     },
     "metadata": {},
     "output_type": "display_data"
    },
    {
     "name": "stderr",
     "output_type": "stream",
     "text": [
      "DEBUG:root:Output decoded from model: Generate SVG code to visually represent the following text description, while respecting the given constraints.\n",
      "<constraints>\n",
      "* **Allowed Elements:** `svg`, `path`, `circle`, `rect`, `ellipse`, `line`, `polyline`, `polygon`, `g`, `linearGradient`, `radialGradient`, `stop`, `defs`\n",
      "* **Allowed Attributes:** `viewBox`, `width`, `height`, `fill`, `stroke`, `stroke-width`, `d`, `cx`, `cy`, `r`, `x`, `y`, `rx`, `ry`, `x1`, `y1`, `x2`, `y2`, `points`, `transform`, `opacity`\n",
      "</constraints>\n",
      "\n",
      "<example>\n",
      "<description>\"A red circle with a blue square inside\"</description>\n",
      "```svg\n",
      "<svg viewBox=\"0 0 256 256\" width=\"256\" height=\"256\">\n",
      "  <circle cx=\"50\" cy=\"50\" r=\"40\" fill=\"red\"/>\n",
      "  <rect x=\"30\" y=\"30\" width=\"40\" height=\"40\" fill=\"blue\"/>\n",
      "</svg>\n",
      "```\n",
      "</example>\n",
      "\n",
      "\n",
      "Please ensure that the generated SVG code is well-formed, valid, and strictly adheres to these constraints. Focus on a clear and concise representation of the input description within the given limitations. Always give the complete SVG code with nothing omitted. Never use an ellipsis.\n",
      "\n",
      "<description>\"a purple silk scarf with tassel trim\"</description>\n",
      "```svg\n",
      "<svg viewBox=\"0 0 256 256\" width=\"256\" height=\"256\">\n",
      "  <defs>\n",
      "    <linearGradient id=\"grad\" x1=\"0\" y1=\"0\" x2=\"1\" y2=\"0\">\n",
      "      <stop offset=\"0\" stop-color=\"#800080\"/> \n",
      "      <stop offset=\"100%\" stop-color=\"#C8A2C8\"/>\n",
      "    </linearGradient>\n",
      "  </defs>\n",
      "  <ellipse cx=\"128\" cy=\"128\" rx=\"100\" ry=\"64\" fill=\"url(#grad)\"/> \n",
      "  <path d=\"M128,192 L128,160 Q128,140 110,140 L110,192\" fill=\"#000000\"/>\n",
      "  <path d=\"M146,192 L146,160 Q146,140 158,140 L158,192\" fill=\"#000000\"/>\n",
      "</svg>\n",
      "```\n",
      "\n",
      "\n",
      "\n",
      "\n",
      "DEBUG:root:Unprocessed SVG: <svg viewBox=\"0 0 256 256\" width=\"256\" height=\"256\">\n",
      "  <defs>\n",
      "    <linearGradient id=\"grad\" x1=\"0\" y1=\"0\" x2=\"1\" y2=\"0\">\n",
      "      <stop offset=\"0\" stop-color=\"#800080\"/> \n",
      "      <stop offset=\"100%\" stop-color=\"#C8A2C8\"/>\n",
      "    </linearGradient>\n",
      "  </defs>\n",
      "  <ellipse cx=\"128\" cy=\"128\" rx=\"100\" ry=\"64\" fill=\"url(#grad)\"/> \n",
      "  <path d=\"M128,192 L128,160 Q128,140 110,140 L110,192\" fill=\"#000000\"/>\n",
      "  <path d=\"M146,192 L146,160 Q146,140 158,140 L158,192\" fill=\"#000000\"/>\n",
      "</svg>\n",
      "INFO:root:Sanitizing SVG...\n",
      "DEBUG:root:Path element \"d\" attribute validated (regex check).\n",
      "DEBUG:root:Path element \"d\" attribute validated (regex check).\n",
      "DEBUG:root:Processed SVG: <svg viewBox=\"0 0 256 256\" width=\"256\" height=\"256\"><defs><linearGradient id=\"grad\" x1=\"0\" y1=\"0\" x2=\"1\" y2=\"0\"><stop offset=\"0\" stop-color=\"#800080\"/><stop offset=\"100%\" stop-color=\"#C8A2C8\"/></linearGradient></defs><ellipse cx=\"128\" cy=\"128\" rx=\"100\" ry=\"64\" fill=\"url(#grad)\"/><path d=\"M128,192 L128,160 Q128,140 110,140 L110,192\" fill=\"#000000\"/><path d=\"M146,192 L146,160 Q146,140 158,140 L158,192\" fill=\"#000000\"/></svg>\n"
     ]
    },
    {
     "name": "stdout",
     "output_type": "stream",
     "text": [
      "Prediction time for description 'a purple silk scarf ...': 17.0997 seconds\n"
     ]
    },
    {
     "data": {
      "image/svg+xml": [
       "<svg viewBox=\"0 0 256 256\" width=\"256\" height=\"256\"><defs><linearGradient id=\"grad\" x1=\"0\" y1=\"0\" x2=\"1\" y2=\"0\"><stop offset=\"0\" stop-color=\"#800080\"/><stop offset=\"100%\" stop-color=\"#C8A2C8\"/></linearGradient></defs><ellipse cx=\"128\" cy=\"128\" rx=\"100\" ry=\"64\" fill=\"url(#grad)\"/><path d=\"M128,192 L128,160 Q128,140 110,140 L110,192\" fill=\"#000000\"/><path d=\"M146,192 L146,160 Q146,140 158,140 L158,192\" fill=\"#000000\"/></svg>"
      ],
      "text/plain": [
       "<IPython.core.display.SVG object>"
      ]
     },
     "metadata": {},
     "output_type": "display_data"
    },
    {
     "name": "stderr",
     "output_type": "stream",
     "text": [
      "DEBUG:root:Output decoded from model: Generate SVG code to visually represent the following text description, while respecting the given constraints.\n",
      "<constraints>\n",
      "* **Allowed Elements:** `svg`, `path`, `circle`, `rect`, `ellipse`, `line`, `polyline`, `polygon`, `g`, `linearGradient`, `radialGradient`, `stop`, `defs`\n",
      "* **Allowed Attributes:** `viewBox`, `width`, `height`, `fill`, `stroke`, `stroke-width`, `d`, `cx`, `cy`, `r`, `x`, `y`, `rx`, `ry`, `x1`, `y1`, `x2`, `y2`, `points`, `transform`, `opacity`\n",
      "</constraints>\n",
      "\n",
      "<example>\n",
      "<description>\"A red circle with a blue square inside\"</description>\n",
      "```svg\n",
      "<svg viewBox=\"0 0 256 256\" width=\"256\" height=\"256\">\n",
      "  <circle cx=\"50\" cy=\"50\" r=\"40\" fill=\"red\"/>\n",
      "  <rect x=\"30\" y=\"30\" width=\"40\" height=\"40\" fill=\"blue\"/>\n",
      "</svg>\n",
      "```\n",
      "</example>\n",
      "\n",
      "\n",
      "Please ensure that the generated SVG code is well-formed, valid, and strictly adheres to these constraints. Focus on a clear and concise representation of the input description within the given limitations. Always give the complete SVG code with nothing omitted. Never use an ellipsis.\n",
      "\n",
      "<description>\"a green lagoon under a cloudy sky\"</description>\n",
      "```svg\n",
      "<svg viewBox=\"0 0 256 256\" width=\"256\" height=\"256\">\n",
      "  <defs>\n",
      "    <linearGradient id=\"skyGradient\" x1=\"0\" y1=\"0\" x2=\"1\" y2=\"1\">\n",
      "      <stop offset=\"0%\" stop-color=\"lightblue\"/>\n",
      "      <stop offset=\"100%\" stop-color=\"whitesmoke\"/>\n",
      "    </linearGradient>\n",
      "  </defs>\n",
      "  <rect x=\"0\" y=\"0\" width=\"256\" height=\"128\" fill=\"url(#skyGradient)\"/>\n",
      "  <rect x=\"64\" y=\"160\" width=\"128\" height=\"96\" rx=\"8\" ry=\"8\" fill=\"green\"/>\n",
      "</svg>\n",
      "```\n",
      "\n",
      "DEBUG:root:Unprocessed SVG: <svg viewBox=\"0 0 256 256\" width=\"256\" height=\"256\">\n",
      "  <defs>\n",
      "    <linearGradient id=\"skyGradient\" x1=\"0\" y1=\"0\" x2=\"1\" y2=\"1\">\n",
      "      <stop offset=\"0%\" stop-color=\"lightblue\"/>\n",
      "      <stop offset=\"100%\" stop-color=\"whitesmoke\"/>\n",
      "    </linearGradient>\n",
      "  </defs>\n",
      "  <rect x=\"0\" y=\"0\" width=\"256\" height=\"128\" fill=\"url(#skyGradient)\"/>\n",
      "  <rect x=\"64\" y=\"160\" width=\"128\" height=\"96\" rx=\"8\" ry=\"8\" fill=\"green\"/>\n",
      "</svg>\n",
      "INFO:root:Sanitizing SVG...\n",
      "DEBUG:root:Processed SVG: <svg viewBox=\"0 0 256 256\" width=\"256\" height=\"256\"><defs><linearGradient id=\"skyGradient\" x1=\"0\" y1=\"0\" x2=\"1\" y2=\"1\"><stop offset=\"0%\" stop-color=\"lightblue\"/><stop offset=\"100%\" stop-color=\"whitesmoke\"/></linearGradient></defs><rect x=\"0\" y=\"0\" width=\"256\" height=\"128\" fill=\"url(#skyGradient)\"/><rect x=\"64\" y=\"160\" width=\"128\" height=\"96\" rx=\"8\" ry=\"8\" fill=\"green\"/></svg>\n"
     ]
    },
    {
     "name": "stdout",
     "output_type": "stream",
     "text": [
      "Prediction time for description 'a green lagoon under...': 11.0423 seconds\n"
     ]
    },
    {
     "data": {
      "image/svg+xml": [
       "<svg viewBox=\"0 0 256 256\" width=\"256\" height=\"256\"><defs><linearGradient id=\"skyGradient\" x1=\"0\" y1=\"0\" x2=\"1\" y2=\"1\"><stop offset=\"0%\" stop-color=\"lightblue\"/><stop offset=\"100%\" stop-color=\"whitesmoke\"/></linearGradient></defs><rect x=\"0\" y=\"0\" width=\"256\" height=\"128\" fill=\"url(#skyGradient)\"/><rect x=\"64\" y=\"160\" width=\"128\" height=\"96\" rx=\"8\" ry=\"8\" fill=\"green\"/></svg>"
      ],
      "text/plain": [
       "<IPython.core.display.SVG object>"
      ]
     },
     "metadata": {},
     "output_type": "display_data"
    },
    {
     "name": "stderr",
     "output_type": "stream",
     "text": [
      "DEBUG:root:Output decoded from model: Generate SVG code to visually represent the following text description, while respecting the given constraints.\n",
      "<constraints>\n",
      "* **Allowed Elements:** `svg`, `path`, `circle`, `rect`, `ellipse`, `line`, `polyline`, `polygon`, `g`, `linearGradient`, `radialGradient`, `stop`, `defs`\n",
      "* **Allowed Attributes:** `viewBox`, `width`, `height`, `fill`, `stroke`, `stroke-width`, `d`, `cx`, `cy`, `r`, `x`, `y`, `rx`, `ry`, `x1`, `y1`, `x2`, `y2`, `points`, `transform`, `opacity`\n",
      "</constraints>\n",
      "\n",
      "<example>\n",
      "<description>\"A red circle with a blue square inside\"</description>\n",
      "```svg\n",
      "<svg viewBox=\"0 0 256 256\" width=\"256\" height=\"256\">\n",
      "  <circle cx=\"50\" cy=\"50\" r=\"40\" fill=\"red\"/>\n",
      "  <rect x=\"30\" y=\"30\" width=\"40\" height=\"40\" fill=\"blue\"/>\n",
      "</svg>\n",
      "```\n",
      "</example>\n",
      "\n",
      "\n",
      "Please ensure that the generated SVG code is well-formed, valid, and strictly adheres to these constraints. Focus on a clear and concise representation of the input description within the given limitations. Always give the complete SVG code with nothing omitted. Never use an ellipsis.\n",
      "\n",
      "<description>\"crimson rectangles forming a chaotic grid\"</description>\n",
      "```svg\n",
      "<svg viewBox=\"0 0 256 256\" width=\"256\" height=\"256\">\n",
      "  <defs>\n",
      "    <linearGradient id=\"grad\">\n",
      "      <stop offset=\"0%\" stop-color=\"#DC143C\"/>\n",
      "      <stop offset=\"100%\" stop-color=\"#B20029\"/>\n",
      "    </linearGradient>\n",
      "  </defs>\n",
      "  <rect x=\"20\" y=\"20\" width=\"40\" height=\"40\" fill=\"url(#grad)\"/>\n",
      "  <rect x=\"60\" y=\"60\" width=\"60\" height=\"80\" fill=\"url(#grad)\"/>\n",
      "  <rect x=\"140\" y=\"140\" width=\"30\" height=\"50\" fill=\"url(#grad)\"/>\n",
      "  <rect x=\"100\" y=\"100\" width=\"100\" height=\"150\" fill=\"url(#grad)\"/>\n",
      "  <rect x=\"1\" y=\"1\" width=\"80\" height=\"80\" fill=\"url(#grad)\"/>\n",
      "</svg>\n",
      "```\n",
      "\n",
      "\n",
      "\n",
      "\n",
      "DEBUG:root:Unprocessed SVG: <svg viewBox=\"0 0 256 256\" width=\"256\" height=\"256\">\n",
      "  <defs>\n",
      "    <linearGradient id=\"grad\">\n",
      "      <stop offset=\"0%\" stop-color=\"#DC143C\"/>\n",
      "      <stop offset=\"100%\" stop-color=\"#B20029\"/>\n",
      "    </linearGradient>\n",
      "  </defs>\n",
      "  <rect x=\"20\" y=\"20\" width=\"40\" height=\"40\" fill=\"url(#grad)\"/>\n",
      "  <rect x=\"60\" y=\"60\" width=\"60\" height=\"80\" fill=\"url(#grad)\"/>\n",
      "  <rect x=\"140\" y=\"140\" width=\"30\" height=\"50\" fill=\"url(#grad)\"/>\n",
      "  <rect x=\"100\" y=\"100\" width=\"100\" height=\"150\" fill=\"url(#grad)\"/>\n",
      "  <rect x=\"1\" y=\"1\" width=\"80\" height=\"80\" fill=\"url(#grad)\"/>\n",
      "</svg>\n",
      "INFO:root:Sanitizing SVG...\n",
      "DEBUG:root:Processed SVG: <svg viewBox=\"0 0 256 256\" width=\"256\" height=\"256\"><defs><linearGradient id=\"grad\"><stop offset=\"0%\" stop-color=\"#DC143C\"/><stop offset=\"100%\" stop-color=\"#B20029\"/></linearGradient></defs><rect x=\"20\" y=\"20\" width=\"40\" height=\"40\" fill=\"url(#grad)\"/><rect x=\"60\" y=\"60\" width=\"60\" height=\"80\" fill=\"url(#grad)\"/><rect x=\"140\" y=\"140\" width=\"30\" height=\"50\" fill=\"url(#grad)\"/><rect x=\"100\" y=\"100\" width=\"100\" height=\"150\" fill=\"url(#grad)\"/><rect x=\"1\" y=\"1\" width=\"80\" height=\"80\" fill=\"url(#grad)\"/></svg>\n"
     ]
    },
    {
     "name": "stdout",
     "output_type": "stream",
     "text": [
      "Prediction time for description 'crimson rectangles f...': 16.5171 seconds\n"
     ]
    },
    {
     "data": {
      "image/svg+xml": [
       "<svg viewBox=\"0 0 256 256\" width=\"256\" height=\"256\"><defs><linearGradient id=\"grad\"><stop offset=\"0%\" stop-color=\"#DC143C\"/><stop offset=\"100%\" stop-color=\"#B20029\"/></linearGradient></defs><rect x=\"20\" y=\"20\" width=\"40\" height=\"40\" fill=\"url(#grad)\"/><rect x=\"60\" y=\"60\" width=\"60\" height=\"80\" fill=\"url(#grad)\"/><rect x=\"140\" y=\"140\" width=\"30\" height=\"50\" fill=\"url(#grad)\"/><rect x=\"100\" y=\"100\" width=\"100\" height=\"150\" fill=\"url(#grad)\"/><rect x=\"1\" y=\"1\" width=\"80\" height=\"80\" fill=\"url(#grad)\"/></svg>"
      ],
      "text/plain": [
       "<IPython.core.display.SVG object>"
      ]
     },
     "metadata": {},
     "output_type": "display_data"
    },
    {
     "name": "stderr",
     "output_type": "stream",
     "text": [
      "DEBUG:root:Output decoded from model: Generate SVG code to visually represent the following text description, while respecting the given constraints.\n",
      "<constraints>\n",
      "* **Allowed Elements:** `svg`, `path`, `circle`, `rect`, `ellipse`, `line`, `polyline`, `polygon`, `g`, `linearGradient`, `radialGradient`, `stop`, `defs`\n",
      "* **Allowed Attributes:** `viewBox`, `width`, `height`, `fill`, `stroke`, `stroke-width`, `d`, `cx`, `cy`, `r`, `x`, `y`, `rx`, `ry`, `x1`, `y1`, `x2`, `y2`, `points`, `transform`, `opacity`\n",
      "</constraints>\n",
      "\n",
      "<example>\n",
      "<description>\"A red circle with a blue square inside\"</description>\n",
      "```svg\n",
      "<svg viewBox=\"0 0 256 256\" width=\"256\" height=\"256\">\n",
      "  <circle cx=\"50\" cy=\"50\" r=\"40\" fill=\"red\"/>\n",
      "  <rect x=\"30\" y=\"30\" width=\"40\" height=\"40\" fill=\"blue\"/>\n",
      "</svg>\n",
      "```\n",
      "</example>\n",
      "\n",
      "\n",
      "Please ensure that the generated SVG code is well-formed, valid, and strictly adheres to these constraints. Focus on a clear and concise representation of the input description within the given limitations. Always give the complete SVG code with nothing omitted. Never use an ellipsis.\n",
      "\n",
      "<description>\"purple pyramids spiraling around a bronze cone\"</description>\n",
      "```svg\n",
      "<svg viewBox=\"0 0 256 256\" width=\"256\" height=\"256\">\n",
      "  <circle cx=\"128\" cy=\"128\" r=\"64\" fill=\"bronze\"/> \n",
      "  <polygon points=\"128,64 160,128 128,192\" fill=\"purple\" transform=\"rotate(45,128,128)\"/>\n",
      "  <polygon points=\"128,64 160,128 128,192\" fill=\"purple\" transform=\"rotate(90,128,128)\"/>\n",
      "  <polygon points=\"128,64 160,128 128,192\" fill=\"purple\" transform=\"rotate(135,128,128)\"/>\n",
      "  <polygon points=\"128,64 160,128 128,192\" fill=\"purple\" transform=\"rotate(180,128,128)\"/>\n",
      "</svg>\n",
      "\n",
      "\n",
      "```\n",
      "DEBUG:root:Unprocessed SVG: <svg viewBox=\"0 0 256 256\" width=\"256\" height=\"256\">\n",
      "  <circle cx=\"128\" cy=\"128\" r=\"64\" fill=\"bronze\"/> \n",
      "  <polygon points=\"128,64 160,128 128,192\" fill=\"purple\" transform=\"rotate(45,128,128)\"/>\n",
      "  <polygon points=\"128,64 160,128 128,192\" fill=\"purple\" transform=\"rotate(90,128,128)\"/>\n",
      "  <polygon points=\"128,64 160,128 128,192\" fill=\"purple\" transform=\"rotate(135,128,128)\"/>\n",
      "  <polygon points=\"128,64 160,128 128,192\" fill=\"purple\" transform=\"rotate(180,128,128)\"/>\n",
      "</svg>\n",
      "INFO:root:Sanitizing SVG...\n",
      "DEBUG:root:Processed SVG: <svg viewBox=\"0 0 256 256\" width=\"256\" height=\"256\"><circle cx=\"128\" cy=\"128\" r=\"64\" fill=\"bronze\"/><polygon points=\"128,64 160,128 128,192\" fill=\"purple\" transform=\"rotate(45,128,128)\"/><polygon points=\"128,64 160,128 128,192\" fill=\"purple\" transform=\"rotate(90,128,128)\"/><polygon points=\"128,64 160,128 128,192\" fill=\"purple\" transform=\"rotate(135,128,128)\"/><polygon points=\"128,64 160,128 128,192\" fill=\"purple\" transform=\"rotate(180,128,128)\"/></svg>\n"
     ]
    },
    {
     "name": "stdout",
     "output_type": "stream",
     "text": [
      "Prediction time for description 'purple pyramids spir...': 16.6938 seconds\n"
     ]
    },
    {
     "data": {
      "image/svg+xml": [
       "<svg viewBox=\"0 0 256 256\" width=\"256\" height=\"256\"><circle cx=\"128\" cy=\"128\" r=\"64\" fill=\"bronze\"/><polygon points=\"128,64 160,128 128,192\" fill=\"purple\" transform=\"rotate(45,128,128)\"/><polygon points=\"128,64 160,128 128,192\" fill=\"purple\" transform=\"rotate(90,128,128)\"/><polygon points=\"128,64 160,128 128,192\" fill=\"purple\" transform=\"rotate(135,128,128)\"/><polygon points=\"128,64 160,128 128,192\" fill=\"purple\" transform=\"rotate(180,128,128)\"/></svg>"
      ],
      "text/plain": [
       "<IPython.core.display.SVG object>"
      ]
     },
     "metadata": {},
     "output_type": "display_data"
    },
    {
     "name": "stderr",
     "output_type": "stream",
     "text": [
      "DEBUG:root:Output decoded from model: Generate SVG code to visually represent the following text description, while respecting the given constraints.\n",
      "<constraints>\n",
      "* **Allowed Elements:** `svg`, `path`, `circle`, `rect`, `ellipse`, `line`, `polyline`, `polygon`, `g`, `linearGradient`, `radialGradient`, `stop`, `defs`\n",
      "* **Allowed Attributes:** `viewBox`, `width`, `height`, `fill`, `stroke`, `stroke-width`, `d`, `cx`, `cy`, `r`, `x`, `y`, `rx`, `ry`, `x1`, `y1`, `x2`, `y2`, `points`, `transform`, `opacity`\n",
      "</constraints>\n",
      "\n",
      "<example>\n",
      "<description>\"A red circle with a blue square inside\"</description>\n",
      "```svg\n",
      "<svg viewBox=\"0 0 256 256\" width=\"256\" height=\"256\">\n",
      "  <circle cx=\"50\" cy=\"50\" r=\"40\" fill=\"red\"/>\n",
      "  <rect x=\"30\" y=\"30\" width=\"40\" height=\"40\" fill=\"blue\"/>\n",
      "</svg>\n",
      "```\n",
      "</example>\n",
      "\n",
      "\n",
      "Please ensure that the generated SVG code is well-formed, valid, and strictly adheres to these constraints. Focus on a clear and concise representation of the input description within the given limitations. Always give the complete SVG code with nothing omitted. Never use an ellipsis.\n",
      "\n",
      "<description>\"magenta trapezoids layered on a transluscent silver sheet\"</description>\n",
      "```svg\n",
      "<svg viewBox=\"0 0 256 256\" width=\"256\" height=\"256\">\n",
      "  <rect x=\"0\" y=\"0\" width=\"256\" height=\"256\" fill=\"url(#silverGradient)\" opacity=\"0.7\"/>\n",
      "  <defs>\n",
      "    <linearGradient id=\"silverGradient\" x1=\"0%\" y1=\"0%\" x2=\"100%\" y2=\"100%\">\n",
      "      <stop offset=\"0%\" stop-color=\"#C0C0C0\"/>\n",
      "      <stop offset=\"100%\" stop-color=\"#D3D3D3\"/>\n",
      "    </linearGradient>\n",
      "  </defs>\n",
      "  <polygon points=\"50,100 150,100 100,50 100,150\" fill=\"magenta\"/>\n",
      "  <polygon points=\"100,100 200,100 150,50 150,150\" fill=\"magenta\"/>\n",
      "</svg>\n",
      "```\n",
      "\n",
      "\n",
      "\n",
      "\n",
      "\n",
      "DEBUG:root:Unprocessed SVG: <svg viewBox=\"0 0 256 256\" width=\"256\" height=\"256\">\n",
      "  <rect x=\"0\" y=\"0\" width=\"256\" height=\"256\" fill=\"url(#silverGradient)\" opacity=\"0.7\"/>\n",
      "  <defs>\n",
      "    <linearGradient id=\"silverGradient\" x1=\"0%\" y1=\"0%\" x2=\"100%\" y2=\"100%\">\n",
      "      <stop offset=\"0%\" stop-color=\"#C0C0C0\"/>\n",
      "      <stop offset=\"100%\" stop-color=\"#D3D3D3\"/>\n",
      "    </linearGradient>\n",
      "  </defs>\n",
      "  <polygon points=\"50,100 150,100 100,50 100,150\" fill=\"magenta\"/>\n",
      "  <polygon points=\"100,100 200,100 150,50 150,150\" fill=\"magenta\"/>\n",
      "</svg>\n",
      "INFO:root:Sanitizing SVG...\n",
      "DEBUG:root:Processed SVG: <svg viewBox=\"0 0 256 256\" width=\"256\" height=\"256\"><rect x=\"0\" y=\"0\" width=\"256\" height=\"256\" fill=\"url(#silverGradient)\" opacity=\"0.7\"/><defs><linearGradient id=\"silverGradient\" x1=\"0%\" y1=\"0%\" x2=\"100%\" y2=\"100%\"><stop offset=\"0%\" stop-color=\"#C0C0C0\"/><stop offset=\"100%\" stop-color=\"#D3D3D3\"/></linearGradient></defs><polygon points=\"50,100 150,100 100,50 100,150\" fill=\"magenta\"/><polygon points=\"100,100 200,100 150,50 150,150\" fill=\"magenta\"/></svg>\n"
     ]
    },
    {
     "name": "stdout",
     "output_type": "stream",
     "text": [
      "Prediction time for description 'magenta trapezoids l...': 15.3710 seconds\n"
     ]
    },
    {
     "data": {
      "image/svg+xml": [
       "<svg viewBox=\"0 0 256 256\" width=\"256\" height=\"256\"><rect x=\"0\" y=\"0\" width=\"256\" height=\"256\" fill=\"url(#silverGradient)\" opacity=\"0.7\"/><defs><linearGradient id=\"silverGradient\" x1=\"0%\" y1=\"0%\" x2=\"100%\" y2=\"100%\"><stop offset=\"0%\" stop-color=\"#C0C0C0\"/><stop offset=\"100%\" stop-color=\"#D3D3D3\"/></linearGradient></defs><polygon points=\"50,100 150,100 100,50 100,150\" fill=\"magenta\"/><polygon points=\"100,100 200,100 150,50 150,150\" fill=\"magenta\"/></svg>"
      ],
      "text/plain": [
       "<IPython.core.display.SVG object>"
      ]
     },
     "metadata": {},
     "output_type": "display_data"
    },
    {
     "name": "stderr",
     "output_type": "stream",
     "text": [
      "DEBUG:root:Output decoded from model: Generate SVG code to visually represent the following text description, while respecting the given constraints.\n",
      "<constraints>\n",
      "* **Allowed Elements:** `svg`, `path`, `circle`, `rect`, `ellipse`, `line`, `polyline`, `polygon`, `g`, `linearGradient`, `radialGradient`, `stop`, `defs`\n",
      "* **Allowed Attributes:** `viewBox`, `width`, `height`, `fill`, `stroke`, `stroke-width`, `d`, `cx`, `cy`, `r`, `x`, `y`, `rx`, `ry`, `x1`, `y1`, `x2`, `y2`, `points`, `transform`, `opacity`\n",
      "</constraints>\n",
      "\n",
      "<example>\n",
      "<description>\"A red circle with a blue square inside\"</description>\n",
      "```svg\n",
      "<svg viewBox=\"0 0 256 256\" width=\"256\" height=\"256\">\n",
      "  <circle cx=\"50\" cy=\"50\" r=\"40\" fill=\"red\"/>\n",
      "  <rect x=\"30\" y=\"30\" width=\"40\" height=\"40\" fill=\"blue\"/>\n",
      "</svg>\n",
      "```\n",
      "</example>\n",
      "\n",
      "\n",
      "Please ensure that the generated SVG code is well-formed, valid, and strictly adheres to these constraints. Focus on a clear and concise representation of the input description within the given limitations. Always give the complete SVG code with nothing omitted. Never use an ellipsis.\n",
      "\n",
      "<description>\"a snowy plain\"</description>\n",
      "```svg\n",
      "<svg viewBox=\"0 0 256 256\" width=\"256\" height=\"256\">\n",
      "  <defs>\n",
      "    <linearGradient id=\"snowy\" x1=\"0%\" y1=\"0%\" x2=\"100%\" y2=\"100%\">\n",
      "      <stop offset=\"0%\" stop-color=\"#ffffff\" />\n",
      "      <stop offset=\"100%\" stop-color=\"#f0f0f0\" />\n",
      "    </linearGradient>\n",
      "  </defs>\n",
      "  <rect x=\"0\" y=\"0\" width=\"256\" height=\"256\" fill=\"url(#snowy)\"/>\n",
      "</svg>\n",
      "\n",
      "```\n",
      "DEBUG:root:Unprocessed SVG: <svg viewBox=\"0 0 256 256\" width=\"256\" height=\"256\">\n",
      "  <defs>\n",
      "    <linearGradient id=\"snowy\" x1=\"0%\" y1=\"0%\" x2=\"100%\" y2=\"100%\">\n",
      "      <stop offset=\"0%\" stop-color=\"#ffffff\" />\n",
      "      <stop offset=\"100%\" stop-color=\"#f0f0f0\" />\n",
      "    </linearGradient>\n",
      "  </defs>\n",
      "  <rect x=\"0\" y=\"0\" width=\"256\" height=\"256\" fill=\"url(#snowy)\"/>\n",
      "</svg>\n",
      "INFO:root:Sanitizing SVG...\n",
      "DEBUG:root:Processed SVG: <svg viewBox=\"0 0 256 256\" width=\"256\" height=\"256\"><defs><linearGradient id=\"snowy\" x1=\"0%\" y1=\"0%\" x2=\"100%\" y2=\"100%\"><stop offset=\"0%\" stop-color=\"#ffffff\"/><stop offset=\"100%\" stop-color=\"#f0f0f0\"/></linearGradient></defs><rect x=\"0\" y=\"0\" width=\"256\" height=\"256\" fill=\"url(#snowy)\"/></svg>\n"
     ]
    },
    {
     "name": "stdout",
     "output_type": "stream",
     "text": [
      "Prediction time for description 'a snowy plain...': 8.8041 seconds\n"
     ]
    },
    {
     "data": {
      "image/svg+xml": [
       "<svg viewBox=\"0 0 256 256\" width=\"256\" height=\"256\"><defs><linearGradient id=\"snowy\" x1=\"0%\" y1=\"0%\" x2=\"100%\" y2=\"100%\"><stop offset=\"0%\" stop-color=\"#ffffff\"/><stop offset=\"100%\" stop-color=\"#f0f0f0\"/></linearGradient></defs><rect x=\"0\" y=\"0\" width=\"256\" height=\"256\" fill=\"url(#snowy)\"/></svg>"
      ],
      "text/plain": [
       "<IPython.core.display.SVG object>"
      ]
     },
     "metadata": {},
     "output_type": "display_data"
    },
    {
     "name": "stderr",
     "output_type": "stream",
     "text": [
      "DEBUG:root:Output decoded from model: Generate SVG code to visually represent the following text description, while respecting the given constraints.\n",
      "<constraints>\n",
      "* **Allowed Elements:** `svg`, `path`, `circle`, `rect`, `ellipse`, `line`, `polyline`, `polygon`, `g`, `linearGradient`, `radialGradient`, `stop`, `defs`\n",
      "* **Allowed Attributes:** `viewBox`, `width`, `height`, `fill`, `stroke`, `stroke-width`, `d`, `cx`, `cy`, `r`, `x`, `y`, `rx`, `ry`, `x1`, `y1`, `x2`, `y2`, `points`, `transform`, `opacity`\n",
      "</constraints>\n",
      "\n",
      "<example>\n",
      "<description>\"A red circle with a blue square inside\"</description>\n",
      "```svg\n",
      "<svg viewBox=\"0 0 256 256\" width=\"256\" height=\"256\">\n",
      "  <circle cx=\"50\" cy=\"50\" r=\"40\" fill=\"red\"/>\n",
      "  <rect x=\"30\" y=\"30\" width=\"40\" height=\"40\" fill=\"blue\"/>\n",
      "</svg>\n",
      "```\n",
      "</example>\n",
      "\n",
      "\n",
      "Please ensure that the generated SVG code is well-formed, valid, and strictly adheres to these constraints. Focus on a clear and concise representation of the input description within the given limitations. Always give the complete SVG code with nothing omitted. Never use an ellipsis.\n",
      "\n",
      "<description>\"black and white checkered pants\"</description>\n",
      "```svg\n",
      "<svg viewBox=\"0 0 256 256\" width=\"256\" height=\"256\">\n",
      "  <rect x=\"0\" y=\"0\" width=\"256\" height=\"256\" fill=\"black\" />\n",
      "  <defs>\n",
      "    <linearGradient id=\"checkered\" x1=\"0\" y1=\"0\" x2=\"1\" y2=\"1\" gradientUnits=\"userSpaceOnUse\">\n",
      "      <stop offset=\"0\" stop-color=\"#ffffff\" />\n",
      "      <stop offset=\"1\" stop-color=\"#000000\" />\n",
      "    </linearGradient> \n",
      "  </defs>\n",
      "  <rect x=\"0\" y=\"0\" width=\"256\" height=\"256\" fill=\"url(#checkered)\" />\n",
      "</svg>\n",
      "```\n",
      "\n",
      "\n",
      "\n",
      "\n",
      "DEBUG:root:Unprocessed SVG: <svg viewBox=\"0 0 256 256\" width=\"256\" height=\"256\">\n",
      "  <rect x=\"0\" y=\"0\" width=\"256\" height=\"256\" fill=\"black\" />\n",
      "  <defs>\n",
      "    <linearGradient id=\"checkered\" x1=\"0\" y1=\"0\" x2=\"1\" y2=\"1\" gradientUnits=\"userSpaceOnUse\">\n",
      "      <stop offset=\"0\" stop-color=\"#ffffff\" />\n",
      "      <stop offset=\"1\" stop-color=\"#000000\" />\n",
      "    </linearGradient> \n",
      "  </defs>\n",
      "  <rect x=\"0\" y=\"0\" width=\"256\" height=\"256\" fill=\"url(#checkered)\" />\n",
      "</svg>\n",
      "INFO:root:Sanitizing SVG...\n",
      "DEBUG:root:Processed SVG: <svg viewBox=\"0 0 256 256\" width=\"256\" height=\"256\"><rect x=\"0\" y=\"0\" width=\"256\" height=\"256\" fill=\"black\"/><defs><linearGradient id=\"checkered\" x1=\"0\" y1=\"0\" x2=\"1\" y2=\"1\" gradientUnits=\"userSpaceOnUse\"><stop offset=\"0\" stop-color=\"#ffffff\"/><stop offset=\"1\" stop-color=\"#000000\"/></linearGradient></defs><rect x=\"0\" y=\"0\" width=\"256\" height=\"256\" fill=\"url(#checkered)\"/></svg>\n"
     ]
    },
    {
     "name": "stdout",
     "output_type": "stream",
     "text": [
      "Prediction time for description 'black and white chec...': 11.2350 seconds\n"
     ]
    },
    {
     "data": {
      "image/svg+xml": [
       "<svg viewBox=\"0 0 256 256\" width=\"256\" height=\"256\"><rect x=\"0\" y=\"0\" width=\"256\" height=\"256\" fill=\"black\"/><defs><linearGradient id=\"checkered\" x1=\"0\" y1=\"0\" x2=\"1\" y2=\"1\" gradientUnits=\"userSpaceOnUse\"><stop offset=\"0\" stop-color=\"#ffffff\"/><stop offset=\"1\" stop-color=\"#000000\"/></linearGradient></defs><rect x=\"0\" y=\"0\" width=\"256\" height=\"256\" fill=\"url(#checkered)\"/></svg>"
      ],
      "text/plain": [
       "<IPython.core.display.SVG object>"
      ]
     },
     "metadata": {},
     "output_type": "display_data"
    },
    {
     "name": "stderr",
     "output_type": "stream",
     "text": [
      "DEBUG:root:Output decoded from model: Generate SVG code to visually represent the following text description, while respecting the given constraints.\n",
      "<constraints>\n",
      "* **Allowed Elements:** `svg`, `path`, `circle`, `rect`, `ellipse`, `line`, `polyline`, `polygon`, `g`, `linearGradient`, `radialGradient`, `stop`, `defs`\n",
      "* **Allowed Attributes:** `viewBox`, `width`, `height`, `fill`, `stroke`, `stroke-width`, `d`, `cx`, `cy`, `r`, `x`, `y`, `rx`, `ry`, `x1`, `y1`, `x2`, `y2`, `points`, `transform`, `opacity`\n",
      "</constraints>\n",
      "\n",
      "<example>\n",
      "<description>\"A red circle with a blue square inside\"</description>\n",
      "```svg\n",
      "<svg viewBox=\"0 0 256 256\" width=\"256\" height=\"256\">\n",
      "  <circle cx=\"50\" cy=\"50\" r=\"40\" fill=\"red\"/>\n",
      "  <rect x=\"30\" y=\"30\" width=\"40\" height=\"40\" fill=\"blue\"/>\n",
      "</svg>\n",
      "```\n",
      "</example>\n",
      "\n",
      "\n",
      "Please ensure that the generated SVG code is well-formed, valid, and strictly adheres to these constraints. Focus on a clear and concise representation of the input description within the given limitations. Always give the complete SVG code with nothing omitted. Never use an ellipsis.\n",
      "\n",
      "<description>\"a starlit night over snow-covered peaks\"</description>\n",
      "```svg\n",
      "<svg viewBox=\"0 0 256 256\" width=\"256\" height=\"256\">\n",
      "  <defs>\n",
      "    <linearGradient id=\"gradient\" x1=\"0%\" y1=\"0%\" x2=\"100%\" y2=\"100%\">\n",
      "      <stop offset=\"0%\" stop-color=\"#08182E\" />\n",
      "      <stop offset=\"100%\" stop-color=\"#1E2935\" />\n",
      "    </linearGradient>\n",
      "  </defs>\n",
      "  <rect width=\"100%\" height=\"100%\" fill=\"url(#gradient)\"/>\n",
      "  <path d=\"M128 10 c-50 0 -90 40 -90 90 l0 100 c0 50 40 90 90 90 l100 0 c50 0 90 -40 90 -90 l0 -100 c0 -50 -40 -90 -90 -90 Z\" fill=\"#ffffff\"/>\n",
      "  <circle cx=\"128\" cy=\"128\" r=\"20\" fill=\"#ffffff\"/>\n",
      "  </svg>\n",
      "``` \n",
      "\n",
      "\n",
      "\n",
      "\n",
      "\n",
      "\n",
      "\n",
      "Let me give it another try! This will likely be a simpler approach but hopefully more effective:\n",
      "\n",
      "```svg\n",
      "<svg viewBox=\"0 0 256 256\" width=\"256\" height=\"256\">\n",
      "  <rect width=\"100%\" height=\"100%\" fill=\"#08182E\"/>\n",
      "  <polygon points=\"100,100 150,50 200,100 150,150\" fill=\"white\" stroke=\"white\" stroke-width=\"2\"/>\n",
      "  <circle cx=\"128\" cy=\"128\" r=\"5\" fill=\"yellow\" /> \n",
      "  <circle cx=\"40\" cy=\"90\" r=\"5\" fill=\"yellow\"/> \n",
      "  <circle cx=\"220\" cy=\"170\" r=\"5\" fill=\"yellow\"/> \n",
      "</svg>\n",
      "```\n",
      "\n",
      "\n",
      "Please let me know if you'd like any changes made!\n",
      "\n",
      "DEBUG:root:Unprocessed SVG: <svg viewBox=\"0 0 256 256\" width=\"256\" height=\"256\">\n",
      "  <rect width=\"100%\" height=\"100%\" fill=\"#08182E\"/>\n",
      "  <polygon points=\"100,100 150,50 200,100 150,150\" fill=\"white\" stroke=\"white\" stroke-width=\"2\"/>\n",
      "  <circle cx=\"128\" cy=\"128\" r=\"5\" fill=\"yellow\" /> \n",
      "  <circle cx=\"40\" cy=\"90\" r=\"5\" fill=\"yellow\"/> \n",
      "  <circle cx=\"220\" cy=\"170\" r=\"5\" fill=\"yellow\"/> \n",
      "</svg>\n",
      "INFO:root:Sanitizing SVG...\n",
      "DEBUG:root:Processed SVG: <svg viewBox=\"0 0 256 256\" width=\"256\" height=\"256\"><rect width=\"100%\" height=\"100%\" fill=\"#08182E\"/><polygon points=\"100,100 150,50 200,100 150,150\" fill=\"white\" stroke=\"white\" stroke-width=\"2\"/><circle cx=\"128\" cy=\"128\" r=\"5\" fill=\"yellow\"/><circle cx=\"40\" cy=\"90\" r=\"5\" fill=\"yellow\"/><circle cx=\"220\" cy=\"170\" r=\"5\" fill=\"yellow\"/></svg>\n"
     ]
    },
    {
     "name": "stdout",
     "output_type": "stream",
     "text": [
      "Prediction time for description 'a starlit night over...': 34.0061 seconds\n"
     ]
    },
    {
     "data": {
      "image/svg+xml": [
       "<svg viewBox=\"0 0 256 256\" width=\"256\" height=\"256\"><rect width=\"100%\" height=\"100%\" fill=\"#08182E\"/><polygon points=\"100,100 150,50 200,100 150,150\" fill=\"white\" stroke=\"white\" stroke-width=\"2\"/><circle cx=\"128\" cy=\"128\" r=\"5\" fill=\"yellow\"/><circle cx=\"40\" cy=\"90\" r=\"5\" fill=\"yellow\"/><circle cx=\"220\" cy=\"170\" r=\"5\" fill=\"yellow\"/></svg>"
      ],
      "text/plain": [
       "<IPython.core.display.SVG object>"
      ]
     },
     "metadata": {},
     "output_type": "display_data"
    },
    {
     "name": "stderr",
     "output_type": "stream",
     "text": [
      "DEBUG:root:Output decoded from model: Generate SVG code to visually represent the following text description, while respecting the given constraints.\n",
      "<constraints>\n",
      "* **Allowed Elements:** `svg`, `path`, `circle`, `rect`, `ellipse`, `line`, `polyline`, `polygon`, `g`, `linearGradient`, `radialGradient`, `stop`, `defs`\n",
      "* **Allowed Attributes:** `viewBox`, `width`, `height`, `fill`, `stroke`, `stroke-width`, `d`, `cx`, `cy`, `r`, `x`, `y`, `rx`, `ry`, `x1`, `y1`, `x2`, `y2`, `points`, `transform`, `opacity`\n",
      "</constraints>\n",
      "\n",
      "<example>\n",
      "<description>\"A red circle with a blue square inside\"</description>\n",
      "```svg\n",
      "<svg viewBox=\"0 0 256 256\" width=\"256\" height=\"256\">\n",
      "  <circle cx=\"50\" cy=\"50\" r=\"40\" fill=\"red\"/>\n",
      "  <rect x=\"30\" y=\"30\" width=\"40\" height=\"40\" fill=\"blue\"/>\n",
      "</svg>\n",
      "```\n",
      "</example>\n",
      "\n",
      "\n",
      "Please ensure that the generated SVG code is well-formed, valid, and strictly adheres to these constraints. Focus on a clear and concise representation of the input description within the given limitations. Always give the complete SVG code with nothing omitted. Never use an ellipsis.\n",
      "\n",
      "<description>\"khaki triangles and azure crescents\"</description>\n",
      "```svg\n",
      "<svg viewBox=\"0 0 256 256\" width=\"256\" height=\"256\">\n",
      "  <defs>\n",
      "    <linearGradient id=\"gradient1\" x1=\"0%\" y1=\"0%\" x2=\"100%\" y2=\"100%\">\n",
      "      <stop offset=\"0%\" stop-color=\"#F0E68C\"/>\n",
      "      <stop offset=\"100%\" stop-color=\"#F0E68C\"/>\n",
      "    </linearGradient>\n",
      "  </defs>\n",
      "  <polygon points=\"50,100 100,200 150,100\" fill=\"url(#gradient1)\" />\n",
      "  <path d=\"M50 120 Q 100 200 150 120\" stroke=\"azure\" stroke-width=\"5\" fill=\"none\"/>\n",
      "</svg>\n",
      "```\n",
      "\n",
      "\n",
      "DEBUG:root:Unprocessed SVG: <svg viewBox=\"0 0 256 256\" width=\"256\" height=\"256\">\n",
      "  <defs>\n",
      "    <linearGradient id=\"gradient1\" x1=\"0%\" y1=\"0%\" x2=\"100%\" y2=\"100%\">\n",
      "      <stop offset=\"0%\" stop-color=\"#F0E68C\"/>\n",
      "      <stop offset=\"100%\" stop-color=\"#F0E68C\"/>\n",
      "    </linearGradient>\n",
      "  </defs>\n",
      "  <polygon points=\"50,100 100,200 150,100\" fill=\"url(#gradient1)\" />\n",
      "  <path d=\"M50 120 Q 100 200 150 120\" stroke=\"azure\" stroke-width=\"5\" fill=\"none\"/>\n",
      "</svg>\n",
      "INFO:root:Sanitizing SVG...\n",
      "DEBUG:root:Path element \"d\" attribute validated (regex check).\n",
      "DEBUG:root:Processed SVG: <svg viewBox=\"0 0 256 256\" width=\"256\" height=\"256\"><defs><linearGradient id=\"gradient1\" x1=\"0%\" y1=\"0%\" x2=\"100%\" y2=\"100%\"><stop offset=\"0%\" stop-color=\"#F0E68C\"/><stop offset=\"100%\" stop-color=\"#F0E68C\"/></linearGradient></defs><polygon points=\"50,100 100,200 150,100\" fill=\"url(#gradient1)\"/><path d=\"M50 120 Q 100 200 150 120\" stroke=\"azure\" stroke-width=\"5\" fill=\"none\"/></svg>\n"
     ]
    },
    {
     "name": "stdout",
     "output_type": "stream",
     "text": [
      "Prediction time for description 'khaki triangles and ...': 12.7850 seconds\n"
     ]
    },
    {
     "data": {
      "image/svg+xml": [
       "<svg viewBox=\"0 0 256 256\" width=\"256\" height=\"256\"><defs><linearGradient id=\"gradient1\" x1=\"0%\" y1=\"0%\" x2=\"100%\" y2=\"100%\"><stop offset=\"0%\" stop-color=\"#F0E68C\"/><stop offset=\"100%\" stop-color=\"#F0E68C\"/></linearGradient></defs><polygon points=\"50,100 100,200 150,100\" fill=\"url(#gradient1)\"/><path d=\"M50 120 Q 100 200 150 120\" stroke=\"azure\" stroke-width=\"5\" fill=\"none\"/></svg>"
      ],
      "text/plain": [
       "<IPython.core.display.SVG object>"
      ]
     },
     "metadata": {},
     "output_type": "display_data"
    },
    {
     "name": "stderr",
     "output_type": "stream",
     "text": [
      "DEBUG:root:Output decoded from model: Generate SVG code to visually represent the following text description, while respecting the given constraints.\n",
      "<constraints>\n",
      "* **Allowed Elements:** `svg`, `path`, `circle`, `rect`, `ellipse`, `line`, `polyline`, `polygon`, `g`, `linearGradient`, `radialGradient`, `stop`, `defs`\n",
      "* **Allowed Attributes:** `viewBox`, `width`, `height`, `fill`, `stroke`, `stroke-width`, `d`, `cx`, `cy`, `r`, `x`, `y`, `rx`, `ry`, `x1`, `y1`, `x2`, `y2`, `points`, `transform`, `opacity`\n",
      "</constraints>\n",
      "\n",
      "<example>\n",
      "<description>\"A red circle with a blue square inside\"</description>\n",
      "```svg\n",
      "<svg viewBox=\"0 0 256 256\" width=\"256\" height=\"256\">\n",
      "  <circle cx=\"50\" cy=\"50\" r=\"40\" fill=\"red\"/>\n",
      "  <rect x=\"30\" y=\"30\" width=\"40\" height=\"40\" fill=\"blue\"/>\n",
      "</svg>\n",
      "```\n",
      "</example>\n",
      "\n",
      "\n",
      "Please ensure that the generated SVG code is well-formed, valid, and strictly adheres to these constraints. Focus on a clear and concise representation of the input description within the given limitations. Always give the complete SVG code with nothing omitted. Never use an ellipsis.\n",
      "\n",
      "<description>\"a maroon dodecahedron interwoven with teal threads\"</description>\n",
      "```svg\n",
      "<svg viewBox=\"0 0 256 256\" width=\"256\" height=\"256\">\n",
      "  <polygon points=\"128,12 160,104 192,12 256,104 256,128 0,128 0,12 80,104\" fill=\"maroon\" opacity=\"0.8\"/>\n",
      "\n",
      "</svg>\n",
      "``` \n",
      "\n",
      "\n",
      "\n",
      "\n",
      "\n",
      "The provided description is  challenging to depict precisely using only the allowed SVG elements.  A dodecahedron is a 12-sided geometric shape, and \"interwoven threads\" visually require additional complexity.\n",
      "\n",
      "Here's a simplified SVG representation attempting to capture the essence of the description using basic shapes:\n",
      "\n",
      "```svg\n",
      "<svg viewBox=\"0 0 256 256\" width=\"256\" height=\"256\">\n",
      "  <polygon points=\"128,12 160,104 192,12 256,104 256,128 0,128 0,12 80,104\" fill=\"maroon\" opacity=\"0.8\"/>\n",
      "  <line x1=\"32\" y1=\"32\" x2=\"224\" y2=\"32\" stroke=\"teal\" stroke-width=\"4\"/>\n",
      "  <line x1=\"32\" y1=\"128\" x2=\"224\" y2=\"128\" stroke=\"teal\" stroke-width=\"4\"/>\n",
      "  <line x1=\"128\" y1=\"32\" x2=\"128\" y2=\"128\" stroke=\"teal\" stroke-width=\"4\"/>\n",
      "</svg>\n",
      "```\n",
      "\n",
      " **Explanation:**\n",
      "\n",
      "*  The `polygon` represents a roughly triangular section of the dodecahedron.\n",
      "\n",
      "*  The `line` elements try to simulate the threads interwoven within the shape. However, achieving a true \"interwoven\" effect with those elements is not straightforward.\n",
      "\n",
      "\n",
      "\n",
      "Let me know if you'd like to explore other ways to represent this concept or if you have any further questions.\n",
      "\n",
      "DEBUG:root:Unprocessed SVG: <svg viewBox=\"0 0 256 256\" width=\"256\" height=\"256\">\n",
      "  <polygon points=\"128,12 160,104 192,12 256,104 256,128 0,128 0,12 80,104\" fill=\"maroon\" opacity=\"0.8\"/>\n",
      "  <line x1=\"32\" y1=\"32\" x2=\"224\" y2=\"32\" stroke=\"teal\" stroke-width=\"4\"/>\n",
      "  <line x1=\"32\" y1=\"128\" x2=\"224\" y2=\"128\" stroke=\"teal\" stroke-width=\"4\"/>\n",
      "  <line x1=\"128\" y1=\"32\" x2=\"128\" y2=\"128\" stroke=\"teal\" stroke-width=\"4\"/>\n",
      "</svg>\n",
      "INFO:root:Sanitizing SVG...\n",
      "DEBUG:root:Processed SVG: <svg viewBox=\"0 0 256 256\" width=\"256\" height=\"256\"><polygon points=\"128,12 160,104 192,12 256,104 256,128 0,128 0,12 80,104\" fill=\"maroon\" opacity=\"0.8\"/><line x1=\"32\" y1=\"32\" x2=\"224\" y2=\"32\" stroke=\"teal\" stroke-width=\"4\"/><line x1=\"32\" y1=\"128\" x2=\"224\" y2=\"128\" stroke=\"teal\" stroke-width=\"4\"/><line x1=\"128\" y1=\"32\" x2=\"128\" y2=\"128\" stroke=\"teal\" stroke-width=\"4\"/></svg>\n"
     ]
    },
    {
     "name": "stdout",
     "output_type": "stream",
     "text": [
      "Prediction time for description 'a maroon dodecahedro...': 32.7055 seconds\n"
     ]
    },
    {
     "data": {
      "image/svg+xml": [
       "<svg viewBox=\"0 0 256 256\" width=\"256\" height=\"256\"><polygon points=\"128,12 160,104 192,12 256,104 256,128 0,128 0,12 80,104\" fill=\"maroon\" opacity=\"0.8\"/><line x1=\"32\" y1=\"32\" x2=\"224\" y2=\"32\" stroke=\"teal\" stroke-width=\"4\"/><line x1=\"32\" y1=\"128\" x2=\"224\" y2=\"128\" stroke=\"teal\" stroke-width=\"4\"/><line x1=\"128\" y1=\"32\" x2=\"128\" y2=\"128\" stroke=\"teal\" stroke-width=\"4\"/></svg>"
      ],
      "text/plain": [
       "<IPython.core.display.SVG object>"
      ]
     },
     "metadata": {},
     "output_type": "display_data"
    }
   ],
   "source": [
    "def generate():\n",
    "    import polars as pl\n",
    "    from IPython.display import SVG\n",
    "    import time  # Import the time module\n",
    "    \n",
    "    logging.basicConfig(level=logging.DEBUG, force=True)\n",
    "    \n",
    "    train = pl.read_csv('train.csv')\n",
    "    display(train.head())\n",
    "    \n",
    "    model = Model()\n",
    "    svgs = []\n",
    "    for desc in train.get_column('description'):\n",
    "        start_time = time.time()  # Record start time\n",
    "        svg = model.predict(desc)\n",
    "        end_time = time.time()    # Record end time\n",
    "        elapsed_time = end_time - start_time # Calculate elapsed time\n",
    "        print(f\"Prediction time for description '{desc[:20]}...': {elapsed_time:.4f} seconds\") # Print time\n",
    "    \n",
    "        try:\n",
    "            display(SVG(svg))\n",
    "        except Exception as e:\n",
    "            print(e)\n",
    "            continue\n",
    "\n",
    "# Uncomment and run the line below to see some generated images\n",
    "generate()"
   ]
  },
  {
   "cell_type": "code",
   "execution_count": 24,
   "metadata": {},
   "outputs": [
    {
     "ename": "AttributeError",
     "evalue": "partially initialized module 'kaggle_evaluation' has no attribute 'core' (most likely due to a circular import)",
     "output_type": "error",
     "traceback": [
      "\u001b[0;31m---------------------------------------------------------------------------\u001b[0m",
      "\u001b[0;31mAttributeError\u001b[0m                            Traceback (most recent call last)",
      "Cell \u001b[0;32mIn[24], line 1\u001b[0m\n\u001b[0;32m----> 1\u001b[0m \u001b[38;5;28;01mimport\u001b[39;00m\u001b[38;5;250m \u001b[39m\u001b[38;5;21;01mkaggle_evaluation\u001b[39;00m\n\u001b[1;32m      3\u001b[0m logging\u001b[38;5;241m.\u001b[39mbasicConfig(level\u001b[38;5;241m=\u001b[39mlogging\u001b[38;5;241m.\u001b[39mINFO, force\u001b[38;5;241m=\u001b[39m\u001b[38;5;28;01mTrue\u001b[39;00m)\n\u001b[1;32m      4\u001b[0m kaggle_evaluation\u001b[38;5;241m.\u001b[39mtest(Model)\n",
      "File \u001b[0;32m~/kaggle/SVG_LLM/kaggle_evaluation/__init__.py:22\u001b[0m\n\u001b[1;32m     19\u001b[0m sys\u001b[38;5;241m.\u001b[39mpath\u001b[38;5;241m.\u001b[39mappend(\u001b[38;5;28mstr\u001b[39m(module_path))\n\u001b[1;32m     20\u001b[0m sys\u001b[38;5;241m.\u001b[39mpath\u001b[38;5;241m.\u001b[39mappend(\u001b[38;5;28mstr\u001b[39m(gen_path))\n\u001b[0;32m---> 22\u001b[0m \u001b[38;5;28;01mfrom\u001b[39;00m\u001b[38;5;250m \u001b[39m\u001b[38;5;21;01m.\u001b[39;00m\u001b[38;5;21;01msvg\u001b[39;00m\u001b[38;5;250m \u001b[39m\u001b[38;5;28;01mimport\u001b[39;00m test, _run_gateway, _run_inference_server\n\u001b[1;32m     23\u001b[0m __all__ \u001b[38;5;241m=\u001b[39m [\u001b[38;5;124m'\u001b[39m\u001b[38;5;124mtest\u001b[39m\u001b[38;5;124m'\u001b[39m]\n\u001b[1;32m     25\u001b[0m __version__ \u001b[38;5;241m=\u001b[39m \u001b[38;5;124m'\u001b[39m\u001b[38;5;124m0.5.0\u001b[39m\u001b[38;5;124m'\u001b[39m\n",
      "File \u001b[0;32m~/kaggle/SVG_LLM/kaggle_evaluation/svg.py:5\u001b[0m\n\u001b[1;32m      2\u001b[0m \u001b[38;5;28;01mimport\u001b[39;00m\u001b[38;5;250m \u001b[39m\u001b[38;5;21;01mpathlib\u001b[39;00m\n\u001b[1;32m      3\u001b[0m \u001b[38;5;28;01mfrom\u001b[39;00m\u001b[38;5;250m \u001b[39m\u001b[38;5;21;01mtypes\u001b[39;00m\u001b[38;5;250m \u001b[39m\u001b[38;5;28;01mimport\u001b[39;00m ModuleType\n\u001b[0;32m----> 5\u001b[0m \u001b[38;5;28;01mfrom\u001b[39;00m\u001b[38;5;250m \u001b[39m\u001b[38;5;21;01mkaggle_evaluation\u001b[39;00m\u001b[38;5;21;01m.\u001b[39;00m\u001b[38;5;21;01mcore\u001b[39;00m\u001b[38;5;250m \u001b[39m\u001b[38;5;28;01mimport\u001b[39;00m relay, templates\n\u001b[1;32m      6\u001b[0m \u001b[38;5;28;01mfrom\u001b[39;00m\u001b[38;5;250m \u001b[39m\u001b[38;5;21;01mkaggle_evaluation\u001b[39;00m\u001b[38;5;21;01m.\u001b[39;00m\u001b[38;5;21;01msvg_gateway\u001b[39;00m\u001b[38;5;250m \u001b[39m\u001b[38;5;28;01mimport\u001b[39;00m SVGGateway\n\u001b[1;32m      9\u001b[0m \u001b[38;5;28;01mdef\u001b[39;00m\u001b[38;5;250m \u001b[39m\u001b[38;5;21mtest\u001b[39m(model_cls: \u001b[38;5;28mtype\u001b[39m, data_path: \u001b[38;5;28mstr\u001b[39m \u001b[38;5;241m|\u001b[39m pathlib\u001b[38;5;241m.\u001b[39mPath \u001b[38;5;241m|\u001b[39m \u001b[38;5;28;01mNone\u001b[39;00m \u001b[38;5;241m=\u001b[39m \u001b[38;5;28;01mNone\u001b[39;00m) \u001b[38;5;241m-\u001b[39m\u001b[38;5;241m>\u001b[39m \u001b[38;5;28;01mNone\u001b[39;00m:\n",
      "File \u001b[0;32m~/kaggle/SVG_LLM/kaggle_evaluation/core/templates.py:22\u001b[0m\n\u001b[1;32m     18\u001b[0m _initial_import_time \u001b[38;5;241m=\u001b[39m time\u001b[38;5;241m.\u001b[39mtime()\n\u001b[1;32m     19\u001b[0m _issued_startup_time_warning \u001b[38;5;241m=\u001b[39m \u001b[38;5;28;01mFalse\u001b[39;00m\n\u001b[0;32m---> 22\u001b[0m \u001b[38;5;28;01mclass\u001b[39;00m\u001b[38;5;250m \u001b[39m\u001b[38;5;21;01mGateway\u001b[39;00m(\u001b[43mkaggle_evaluation\u001b[49m\u001b[38;5;241;43m.\u001b[39;49m\u001b[43mcore\u001b[49m\u001b[38;5;241m.\u001b[39mbase_gateway\u001b[38;5;241m.\u001b[39mBaseGateway, abc\u001b[38;5;241m.\u001b[39mABC):\n\u001b[1;32m     23\u001b[0m \u001b[38;5;250m    \u001b[39m\u001b[38;5;124;03m'''\u001b[39;00m\n\u001b[1;32m     24\u001b[0m \u001b[38;5;124;03m    Template to start with when writing a new gateway.\u001b[39;00m\n\u001b[1;32m     25\u001b[0m \u001b[38;5;124;03m    In most cases, hosts should only need to write get_all_predictions.\u001b[39;00m\n\u001b[0;32m   (...)\u001b[0m\n\u001b[1;32m     31\u001b[0m \u001b[38;5;124;03m    files available via symlink. See base_gateway.BaseGateway.share_files for the full details.\u001b[39;00m\n\u001b[1;32m     32\u001b[0m \u001b[38;5;124;03m    '''\u001b[39;00m\n\u001b[1;32m     34\u001b[0m     \u001b[38;5;129m@abc\u001b[39m\u001b[38;5;241m.\u001b[39mabstractmethod\n\u001b[1;32m     35\u001b[0m     \u001b[38;5;28;01mdef\u001b[39;00m\u001b[38;5;250m \u001b[39m\u001b[38;5;21mgenerate_data_batches\u001b[39m(\u001b[38;5;28mself\u001b[39m) \u001b[38;5;241m-\u001b[39m\u001b[38;5;241m>\u001b[39m Generator:\n",
      "\u001b[0;31mAttributeError\u001b[0m: partially initialized module 'kaggle_evaluation' has no attribute 'core' (most likely due to a circular import)"
     ]
    }
   ],
   "source": [
    "import kaggle_evaluation\n",
    "\n",
    "logging.basicConfig(level=logging.INFO, force=True)\n",
    "kaggle_evaluation.test(Model)"
   ]
  }
 ],
 "metadata": {
  "kernelspec": {
   "display_name": "svgllm",
   "language": "python",
   "name": "python3"
  },
  "language_info": {
   "codemirror_mode": {
    "name": "ipython",
    "version": 3
   },
   "file_extension": ".py",
   "mimetype": "text/x-python",
   "name": "python",
   "nbconvert_exporter": "python",
   "pygments_lexer": "ipython3",
   "version": "3.10.16"
  }
 },
 "nbformat": 4,
 "nbformat_minor": 2
}
